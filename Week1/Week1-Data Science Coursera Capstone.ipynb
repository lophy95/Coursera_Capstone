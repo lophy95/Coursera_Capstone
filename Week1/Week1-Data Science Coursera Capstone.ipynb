{
 "cells": [
  {
   "cell_type": "markdown",
   "id": "6bf8f117",
   "metadata": {},
   "source": [
    "# Data Science Coursera Capstone"
   ]
  },
  {
   "cell_type": "markdown",
   "id": "b6269eaf",
   "metadata": {},
   "source": [
    "The goal of this notebook is to complete the IBM Data Science Coursera Capstone project (Week-1)."
   ]
  },
  {
   "cell_type": "code",
   "execution_count": 1,
   "id": "6163b939",
   "metadata": {},
   "outputs": [],
   "source": [
    "import pandas as pd\n",
    "import numpy as np"
   ]
  },
  {
   "cell_type": "code",
   "execution_count": 2,
   "id": "1e486c0d",
   "metadata": {},
   "outputs": [
    {
     "name": "stdout",
     "output_type": "stream",
     "text": [
      "Hello Capstone Project Course!\n"
     ]
    }
   ],
   "source": [
    "print('Hello Capstone Project Course!')"
   ]
  },
  {
   "cell_type": "code",
   "execution_count": null,
   "id": "294adc70",
   "metadata": {},
   "outputs": [],
   "source": []
  }
 ],
 "metadata": {
  "kernelspec": {
   "display_name": "Python 3",
   "language": "python",
   "name": "python3"
  },
  "language_info": {
   "codemirror_mode": {
    "name": "ipython",
    "version": 3
   },
   "file_extension": ".py",
   "mimetype": "text/x-python",
   "name": "python",
   "nbconvert_exporter": "python",
   "pygments_lexer": "ipython3",
   "version": "3.6.9"
  }
 },
 "nbformat": 4,
 "nbformat_minor": 5
}
